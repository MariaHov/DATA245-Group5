{
 "cells": [
  {
   "cell_type": "code",
   "execution_count": 1,
   "id": "51e44f81",
   "metadata": {},
   "outputs": [],
   "source": [
    "import pandas as pd\n",
    "from sklearn.ensemble import ExtraTreesRegressor\n",
    "from sklearn.model_selection import GridSearchCV\n",
    "from sklearn.metrics import r2_score, mean_squared_error, mean_absolute_error\n",
    "from sklearn.datasets import load_boston\n",
    "from sklearn.model_selection import train_test_split\n",
    "import numpy as np"
   ]
  },
  {
   "cell_type": "code",
   "execution_count": 2,
   "id": "7512edee",
   "metadata": {},
   "outputs": [],
   "source": [
    "df = pd.read_csv(\"dataframe.csv\")"
   ]
  },
  {
   "cell_type": "code",
   "execution_count": 3,
   "id": "b0e01584",
   "metadata": {},
   "outputs": [
    {
     "data": {
      "text/html": [
       "<div>\n",
       "<style scoped>\n",
       "    .dataframe tbody tr th:only-of-type {\n",
       "        vertical-align: middle;\n",
       "    }\n",
       "\n",
       "    .dataframe tbody tr th {\n",
       "        vertical-align: top;\n",
       "    }\n",
       "\n",
       "    .dataframe thead th {\n",
       "        text-align: right;\n",
       "    }\n",
       "</style>\n",
       "<table border=\"1\" class=\"dataframe\">\n",
       "  <thead>\n",
       "    <tr style=\"text-align: right;\">\n",
       "      <th></th>\n",
       "      <th>PM2.5</th>\n",
       "      <th>PM10</th>\n",
       "      <th>CO</th>\n",
       "      <th>DEWP</th>\n",
       "      <th>SO2</th>\n",
       "      <th>TEMP</th>\n",
       "      <th>NO2</th>\n",
       "      <th>PRES</th>\n",
       "      <th>O3</th>\n",
       "      <th>WSPM</th>\n",
       "    </tr>\n",
       "  </thead>\n",
       "  <tbody>\n",
       "    <tr>\n",
       "      <th>0</th>\n",
       "      <td>4.0</td>\n",
       "      <td>4.0</td>\n",
       "      <td>300.0</td>\n",
       "      <td>-18.8</td>\n",
       "      <td>4.0</td>\n",
       "      <td>-0.7</td>\n",
       "      <td>7.0</td>\n",
       "      <td>1023.0</td>\n",
       "      <td>77.0</td>\n",
       "      <td>4.4</td>\n",
       "    </tr>\n",
       "    <tr>\n",
       "      <th>1</th>\n",
       "      <td>8.0</td>\n",
       "      <td>8.0</td>\n",
       "      <td>300.0</td>\n",
       "      <td>-18.2</td>\n",
       "      <td>4.0</td>\n",
       "      <td>-1.1</td>\n",
       "      <td>7.0</td>\n",
       "      <td>1023.2</td>\n",
       "      <td>77.0</td>\n",
       "      <td>4.7</td>\n",
       "    </tr>\n",
       "    <tr>\n",
       "      <th>2</th>\n",
       "      <td>7.0</td>\n",
       "      <td>7.0</td>\n",
       "      <td>300.0</td>\n",
       "      <td>-18.2</td>\n",
       "      <td>5.0</td>\n",
       "      <td>-1.1</td>\n",
       "      <td>10.0</td>\n",
       "      <td>1023.5</td>\n",
       "      <td>73.0</td>\n",
       "      <td>5.6</td>\n",
       "    </tr>\n",
       "    <tr>\n",
       "      <th>3</th>\n",
       "      <td>6.0</td>\n",
       "      <td>6.0</td>\n",
       "      <td>300.0</td>\n",
       "      <td>-19.4</td>\n",
       "      <td>11.0</td>\n",
       "      <td>-1.4</td>\n",
       "      <td>11.0</td>\n",
       "      <td>1024.5</td>\n",
       "      <td>72.0</td>\n",
       "      <td>3.1</td>\n",
       "    </tr>\n",
       "    <tr>\n",
       "      <th>4</th>\n",
       "      <td>3.0</td>\n",
       "      <td>3.0</td>\n",
       "      <td>300.0</td>\n",
       "      <td>-19.5</td>\n",
       "      <td>12.0</td>\n",
       "      <td>-2.0</td>\n",
       "      <td>12.0</td>\n",
       "      <td>1025.2</td>\n",
       "      <td>72.0</td>\n",
       "      <td>2.0</td>\n",
       "    </tr>\n",
       "    <tr>\n",
       "      <th>...</th>\n",
       "      <td>...</td>\n",
       "      <td>...</td>\n",
       "      <td>...</td>\n",
       "      <td>...</td>\n",
       "      <td>...</td>\n",
       "      <td>...</td>\n",
       "      <td>...</td>\n",
       "      <td>...</td>\n",
       "      <td>...</td>\n",
       "      <td>...</td>\n",
       "    </tr>\n",
       "    <tr>\n",
       "      <th>210379</th>\n",
       "      <td>14.0</td>\n",
       "      <td>58.0</td>\n",
       "      <td>500.0</td>\n",
       "      <td>-17.0</td>\n",
       "      <td>4.0</td>\n",
       "      <td>12.8</td>\n",
       "      <td>19.0</td>\n",
       "      <td>1009.9</td>\n",
       "      <td>56.0</td>\n",
       "      <td>3.1</td>\n",
       "    </tr>\n",
       "    <tr>\n",
       "      <th>210380</th>\n",
       "      <td>27.0</td>\n",
       "      <td>83.0</td>\n",
       "      <td>700.0</td>\n",
       "      <td>-15.5</td>\n",
       "      <td>6.0</td>\n",
       "      <td>11.1</td>\n",
       "      <td>60.0</td>\n",
       "      <td>1010.4</td>\n",
       "      <td>26.0</td>\n",
       "      <td>1.9</td>\n",
       "    </tr>\n",
       "    <tr>\n",
       "      <th>210381</th>\n",
       "      <td>22.0</td>\n",
       "      <td>37.0</td>\n",
       "      <td>600.0</td>\n",
       "      <td>-15.9</td>\n",
       "      <td>7.0</td>\n",
       "      <td>10.5</td>\n",
       "      <td>52.0</td>\n",
       "      <td>1010.8</td>\n",
       "      <td>27.0</td>\n",
       "      <td>2.3</td>\n",
       "    </tr>\n",
       "    <tr>\n",
       "      <th>210382</th>\n",
       "      <td>9.0</td>\n",
       "      <td>23.0</td>\n",
       "      <td>400.0</td>\n",
       "      <td>-14.9</td>\n",
       "      <td>3.0</td>\n",
       "      <td>8.9</td>\n",
       "      <td>13.0</td>\n",
       "      <td>1010.9</td>\n",
       "      <td>57.0</td>\n",
       "      <td>1.6</td>\n",
       "    </tr>\n",
       "    <tr>\n",
       "      <th>210383</th>\n",
       "      <td>12.0</td>\n",
       "      <td>48.0</td>\n",
       "      <td>600.0</td>\n",
       "      <td>-13.4</td>\n",
       "      <td>5.0</td>\n",
       "      <td>6.2</td>\n",
       "      <td>48.0</td>\n",
       "      <td>1010.5</td>\n",
       "      <td>28.0</td>\n",
       "      <td>0.7</td>\n",
       "    </tr>\n",
       "  </tbody>\n",
       "</table>\n",
       "<p>210384 rows × 10 columns</p>\n",
       "</div>"
      ],
      "text/plain": [
       "        PM2.5  PM10     CO  DEWP   SO2  TEMP   NO2    PRES    O3  WSPM\n",
       "0         4.0   4.0  300.0 -18.8   4.0  -0.7   7.0  1023.0  77.0   4.4\n",
       "1         8.0   8.0  300.0 -18.2   4.0  -1.1   7.0  1023.2  77.0   4.7\n",
       "2         7.0   7.0  300.0 -18.2   5.0  -1.1  10.0  1023.5  73.0   5.6\n",
       "3         6.0   6.0  300.0 -19.4  11.0  -1.4  11.0  1024.5  72.0   3.1\n",
       "4         3.0   3.0  300.0 -19.5  12.0  -2.0  12.0  1025.2  72.0   2.0\n",
       "...       ...   ...    ...   ...   ...   ...   ...     ...   ...   ...\n",
       "210379   14.0  58.0  500.0 -17.0   4.0  12.8  19.0  1009.9  56.0   3.1\n",
       "210380   27.0  83.0  700.0 -15.5   6.0  11.1  60.0  1010.4  26.0   1.9\n",
       "210381   22.0  37.0  600.0 -15.9   7.0  10.5  52.0  1010.8  27.0   2.3\n",
       "210382    9.0  23.0  400.0 -14.9   3.0   8.9  13.0  1010.9  57.0   1.6\n",
       "210383   12.0  48.0  600.0 -13.4   5.0   6.2  48.0  1010.5  28.0   0.7\n",
       "\n",
       "[210384 rows x 10 columns]"
      ]
     },
     "execution_count": 3,
     "metadata": {},
     "output_type": "execute_result"
    }
   ],
   "source": [
    "df"
   ]
  },
  {
   "cell_type": "code",
   "execution_count": 6,
   "id": "856ece80",
   "metadata": {},
   "outputs": [],
   "source": [
    "X = df.drop('PM2.5', axis=1)\n",
    "y = df['PM2.5']\n",
    "\n",
    "X_train, X_test, y_train, y_test = train_test_split(X, y, test_size=0.2, random_state=42)"
   ]
  },
  {
   "cell_type": "markdown",
   "id": "24a17383",
   "metadata": {},
   "source": [
    "## Extra Tree"
   ]
  },
  {
   "cell_type": "code",
   "execution_count": 7,
   "id": "288813e8",
   "metadata": {},
   "outputs": [
    {
     "data": {
      "text/plain": [
       "GridSearchCV(cv=5, estimator=ExtraTreesRegressor(), n_jobs=-1,\n",
       "             param_grid={'max_depth': [5, 10, 15],\n",
       "                         'max_features': ['auto', 'sqrt'],\n",
       "                         'min_samples_leaf': [1, 2],\n",
       "                         'min_samples_split': [2, 5],\n",
       "                         'n_estimators': [50, 100]})"
      ]
     },
     "execution_count": 7,
     "metadata": {},
     "output_type": "execute_result"
    }
   ],
   "source": [
    "model = ExtraTreesRegressor()\n",
    "\n",
    "params_grid = {'n_estimators': [50, 100],\n",
    "               'max_depth': [5, 10, 15],\n",
    "               'min_samples_split': [2, 5],\n",
    "               'min_samples_leaf': [1, 2],\n",
    "               'max_features': ['auto', 'sqrt']}\n",
    "\n",
    "# Perform grid search\n",
    "grid_search = GridSearchCV(model, param_grid=params_grid, cv=5, n_jobs=-1)\n",
    "grid_search.fit(X_train, y_train)"
   ]
  },
  {
   "cell_type": "code",
   "execution_count": 11,
   "id": "99844cc3",
   "metadata": {},
   "outputs": [
    {
     "name": "stdout",
     "output_type": "stream",
     "text": [
      "Best model: ExtraTreesRegressor(max_depth=15)\n",
      "R2 score: 0.9271281800431508\n",
      "Adjusted R2 score: 0.9271125895237505\n",
      "Root mean squared error: 21.731597181027514\n",
      "Mean squared error: 472.2623160384429\n",
      "Mean absolute error: 13.942114223072032\n"
     ]
    }
   ],
   "source": [
    "# Get the best model\n",
    "best_model = grid_search.best_estimator_\n",
    "\n",
    "# Make predictions on the test set\n",
    "y_pred = best_model.predict(X_test)\n",
    "\n",
    "# Calculate metrics\n",
    "r2 = r2_score(y_test, y_pred)\n",
    "rmse = np.sqrt(mean_squared_error(y_test, y_pred))\n",
    "mse = mean_squared_error(y_test, y_pred)\n",
    "mae = mean_absolute_error(y_test, y_pred)\n",
    "adj_r2 = 1 - (1 - r2) * (len(y_test) - 1) / (len(y_test) - X_test.shape[1] - 1)\n",
    "\n",
    "# Print results\n",
    "print(\"Best model:\", best_model)\n",
    "print(\"R2 score:\", r2)\n",
    "print(\"Adjusted R2 score:\", adj_r2)\n",
    "print(\"Root mean squared error:\", rmse)\n",
    "print(\"Mean squared error:\", mse)\n",
    "print(\"Mean absolute error:\", mae)"
   ]
  },
  {
   "cell_type": "code",
   "execution_count": 13,
   "id": "8766a32a",
   "metadata": {},
   "outputs": [],
   "source": [
    "import pickle\n",
    "\n",
    "with open('best_model.pkl', 'wb') as f:\n",
    "    pickle.dump(best_model, f)"
   ]
  },
  {
   "cell_type": "markdown",
   "id": "8d4797a0",
   "metadata": {},
   "source": [
    "## LGBRegressor"
   ]
  },
  {
   "cell_type": "code",
   "execution_count": 14,
   "id": "b516eb9d",
   "metadata": {},
   "outputs": [],
   "source": [
    "from lightgbm import LGBMRegressor"
   ]
  },
  {
   "cell_type": "code",
   "execution_count": 19,
   "id": "949b84af",
   "metadata": {},
   "outputs": [
    {
     "data": {
      "text/plain": [
       "GridSearchCV(cv=5, estimator=LGBMRegressor(), n_jobs=-1,\n",
       "             param_grid={'learning_rate': [0.05, 0.1], 'max_depth': [10, 15],\n",
       "                         'n_estimators': [100, 150], 'num_leaves': [31, 63]})"
      ]
     },
     "execution_count": 19,
     "metadata": {},
     "output_type": "execute_result"
    }
   ],
   "source": [
    "model = LGBMRegressor()\n",
    "\n",
    "# Define the hyperparameters grid to search over\n",
    "params_grid = {'n_estimators': [100, 150],\n",
    "               'max_depth': [ 10, 15],\n",
    "               'num_leaves': [31, 63],\n",
    "               'learning_rate': [0.05, 0.1]}\n",
    "             #  'min_child_samples': [1, 5, 10, 20],\n",
    "             #  'subsample': [0.5, 0.7, 0.9, 1],\n",
    "             #  'colsample_bytree': [0.5, 0.7, 0.9, 1]}\n",
    "\n",
    "# Perform grid search\n",
    "grid_search = GridSearchCV(model, param_grid=params_grid, cv=5, n_jobs=-1)\n",
    "grid_search.fit(X_train, y_train)"
   ]
  },
  {
   "cell_type": "code",
   "execution_count": 21,
   "id": "0ea4e55b",
   "metadata": {},
   "outputs": [
    {
     "name": "stdout",
     "output_type": "stream",
     "text": [
      "Best model: LGBMRegressor(max_depth=15, n_estimators=150, num_leaves=63)\n",
      "R2 score: 0.9359300590474346\n",
      "Adjusted R2 score: 0.9359163516409504\n",
      "Root mean squared error: 20.376941570788915\n",
      "Mean squared error: 415.2197477793455\n",
      "Mean absolute error: 12.822572341806428\n"
     ]
    }
   ],
   "source": [
    "# Get the best model\n",
    "best_model = grid_search.best_estimator_\n",
    "\n",
    "# Make predictions on the test set\n",
    "y_pred = best_model.predict(X_test)\n",
    "\n",
    "# Calculate metrics\n",
    "r2 = r2_score(y_test, y_pred)\n",
    "adj_r2 = 1 - (1 - r2) * (len(y_test) - 1) / (len(y_test) - X_test.shape[1] - 1)\n",
    "rmse = np.sqrt(mean_squared_error(y_test, y_pred))\n",
    "mse = mean_squared_error(y_test, y_pred)\n",
    "mae = mean_absolute_error(y_test, y_pred)\n",
    "\n",
    "# Save the best model into a pickle file\n",
    "with open('best_model_lgbm.pkl', 'wb') as f:\n",
    "    pickle.dump(best_model, f)\n",
    "\n",
    "# Print results\n",
    "print(\"Best model:\", best_model)\n",
    "print(\"R2 score:\", r2)\n",
    "print(\"Adjusted R2 score:\", adj_r2)\n",
    "print(\"Root mean squared error:\", rmse)\n",
    "print(\"Mean squared error:\", mse)\n",
    "print(\"Mean absolute error:\", mae)"
   ]
  },
  {
   "cell_type": "code",
   "execution_count": null,
   "id": "95c2ead0",
   "metadata": {},
   "outputs": [],
   "source": []
  }
 ],
 "metadata": {
  "kernelspec": {
   "display_name": "Python 3",
   "language": "python",
   "name": "python3"
  },
  "language_info": {
   "codemirror_mode": {
    "name": "ipython",
    "version": 3
   },
   "file_extension": ".py",
   "mimetype": "text/x-python",
   "name": "python",
   "nbconvert_exporter": "python",
   "pygments_lexer": "ipython3",
   "version": "3.8.8"
  }
 },
 "nbformat": 4,
 "nbformat_minor": 5
}
