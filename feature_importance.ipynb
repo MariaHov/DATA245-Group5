{
 "cells": [
  {
   "cell_type": "code",
   "execution_count": 11,
   "id": "0ff54c93",
   "metadata": {},
   "outputs": [],
   "source": [
    "import numpy as np\n",
    "import pandas as pd\n",
    "from sklearn.tree import DecisionTreeRegressor\n",
    "import matplotlib.pyplot as plt"
   ]
  },
  {
   "cell_type": "code",
   "execution_count": 4,
   "id": "9e0b929a",
   "metadata": {},
   "outputs": [],
   "source": [
    "df = pd.read_csv(\"imputed_dataframe.csv\")"
   ]
  },
  {
   "cell_type": "code",
   "execution_count": 3,
   "id": "01f78bde",
   "metadata": {},
   "outputs": [],
   "source": [
    "file_names = [\n",
    "    'PRSA_Data_Aotizhongxin_20130301-20170228.csv',\n",
    "    'PRSA_Data_Changping_20130301-20170228.csv',\n",
    "    'PRSA_Data_Dingling_20130301-20170228.csv',\n",
    "    'PRSA_Data_Dongsi_20130301-20170228.csv',\n",
    "    'PRSA_Data_Guanyuan_20130301-20170228.csv',\n",
    "    'PRSA_Data_Gucheng_20130301-20170228.csv'\n",
    "]\n",
    "dfs = [pd.read_csv(file_name) for file_name in file_names]\n",
    "df = pd.concat(dfs)"
   ]
  },
  {
   "cell_type": "code",
   "execution_count": 5,
   "id": "728a3d48",
   "metadata": {},
   "outputs": [],
   "source": [
    "from sklearn.model_selection import train_test_split\n",
    "\n",
    "X = df.drop('PM2.5', axis=1)\n",
    "y = df['PM2.5']\n",
    "\n",
    "X_train, X_test, y_train, y_test = train_test_split(X, y, test_size=0.2, random_state=42)"
   ]
  },
  {
   "cell_type": "code",
   "execution_count": 6,
   "id": "73db7e81",
   "metadata": {},
   "outputs": [
    {
     "data": {
      "text/plain": [
       "DecisionTreeRegressor(random_state=42)"
      ]
     },
     "execution_count": 6,
     "metadata": {},
     "output_type": "execute_result"
    }
   ],
   "source": [
    "clf = DecisionTreeRegressor(random_state=42)\n",
    "clf.fit(X_train, y_train)"
   ]
  },
  {
   "cell_type": "code",
   "execution_count": 7,
   "id": "970a0716",
   "metadata": {},
   "outputs": [
    {
     "name": "stdout",
     "output_type": "stream",
     "text": [
      "                      importance\n",
      "PM10                    0.788237\n",
      "CO                      0.112782\n",
      "DEWP                    0.021239\n",
      "SO2                     0.015936\n",
      "TEMP                    0.012639\n",
      "NO2                     0.010807\n",
      "PRES                    0.010653\n",
      "O3                      0.008489\n",
      "WSPM                    0.005648\n",
      "station_Dingling        0.001781\n",
      "station_Gucheng         0.001383\n",
      "station_Changping       0.001251\n",
      "station_Dongsi          0.001082\n",
      "station_Aotizhongxin    0.000727\n",
      "wd_SSE                  0.000523\n",
      "station_Guanyuan        0.000517\n",
      "RAIN                    0.000495\n",
      "wd_ESE                  0.000476\n",
      "wd_NW                   0.000473\n",
      "wd_E                    0.000465\n",
      "wd_N                    0.000429\n",
      "wd_NNE                  0.000417\n",
      "wd_NE                   0.000412\n",
      "wd_WSW                  0.000394\n",
      "wd_SW                   0.000382\n",
      "wd_ENE                  0.000379\n",
      "wd_SSW                  0.000363\n",
      "wd_SE                   0.000351\n",
      "wd_S                    0.000350\n",
      "wd_NNW                  0.000338\n",
      "wd_W                    0.000292\n",
      "wd_WNW                  0.000273\n",
      "wd_nan                  0.000016\n"
     ]
    }
   ],
   "source": [
    "feature_importances = pd.DataFrame(clf.feature_importances_,\n",
    "                                   index = X_train.columns,\n",
    "                                   columns=['importance']).sort_values('importance', ascending=False)\n",
    "print(feature_importances)"
   ]
  },
  {
   "cell_type": "code",
   "execution_count": 19,
   "id": "5afe8a7b",
   "metadata": {},
   "outputs": [
    {
     "data": {
      "image/png": "[encoded data removed]",
      "text/plain": [
       "<Figure size 720x432 with 1 Axes>"
      ]
     },
     "metadata": {
      "needs_background": "light"
     },
     "output_type": "display_data"
    }
   ],
   "source": [
    "top_features = feature_importances.sort_values('importance', ascending=False).iloc[:18, :]\n",
    "\n",
    "# Create a horizontal bar plot of the top 13 features\n",
    "fig, ax = plt.subplots(figsize=(10, 6))\n",
    "top_features.plot.barh(ax=ax)\n",
    "\n",
    "# Set plot title and axis labels\n",
    "ax.set_title('Top 13 Feature Importances')\n",
    "ax.set_xlabel('Importance')\n",
    "ax.set_ylabel('Feature')\n",
    "\n",
    "# Show the plot\n",
    "plt.show()\n"
   ]
  },
  {
   "cell_type": "code",
   "execution_count": 22,
   "id": "ead39e7e",
   "metadata": {},
   "outputs": [],
   "source": [
    "features = ['PM10', 'CO', 'DEWP', 'SO2', 'TEMP', 'NO2', 'PRES', 'O3', 'WSPM']"
   ]
  },
  {
   "cell_type": "code",
   "execution_count": 23,
   "id": "08b2f8cb",
   "metadata": {},
   "outputs": [
    {
     "data": {
      "text/html": [
       "<div>\n",
       "<style scoped>\n",
       "    .dataframe tbody tr th:only-of-type {\n",
       "        vertical-align: middle;\n",
       "    }\n",
       "\n",
       "    .dataframe tbody tr th {\n",
       "        vertical-align: top;\n",
       "    }\n",
       "\n",
       "    .dataframe thead th {\n",
       "        text-align: right;\n",
       "    }\n",
       "</style>\n",
       "<table border=\"1\" class=\"dataframe\">\n",
       "  <thead>\n",
       "    <tr style=\"text-align: right;\">\n",
       "      <th></th>\n",
       "      <th>PM10</th>\n",
       "      <th>CO</th>\n",
       "      <th>DEWP</th>\n",
       "      <th>SO2</th>\n",
       "      <th>TEMP</th>\n",
       "      <th>NO2</th>\n",
       "      <th>PRES</th>\n",
       "      <th>O3</th>\n",
       "      <th>WSPM</th>\n",
       "    </tr>\n",
       "  </thead>\n",
       "  <tbody>\n",
       "    <tr>\n",
       "      <th>0</th>\n",
       "      <td>4.0</td>\n",
       "      <td>300.0</td>\n",
       "      <td>-18.8</td>\n",
       "      <td>4.0</td>\n",
       "      <td>-0.7</td>\n",
       "      <td>7.0</td>\n",
       "      <td>1023.0</td>\n",
       "      <td>77.0</td>\n",
       "      <td>4.4</td>\n",
       "    </tr>\n",
       "    <tr>\n",
       "      <th>1</th>\n",
       "      <td>8.0</td>\n",
       "      <td>300.0</td>\n",
       "      <td>-18.2</td>\n",
       "      <td>4.0</td>\n",
       "      <td>-1.1</td>\n",
       "      <td>7.0</td>\n",
       "      <td>1023.2</td>\n",
       "      <td>77.0</td>\n",
       "      <td>4.7</td>\n",
       "    </tr>\n",
       "    <tr>\n",
       "      <th>2</th>\n",
       "      <td>7.0</td>\n",
       "      <td>300.0</td>\n",
       "      <td>-18.2</td>\n",
       "      <td>5.0</td>\n",
       "      <td>-1.1</td>\n",
       "      <td>10.0</td>\n",
       "      <td>1023.5</td>\n",
       "      <td>73.0</td>\n",
       "      <td>5.6</td>\n",
       "    </tr>\n",
       "    <tr>\n",
       "      <th>3</th>\n",
       "      <td>6.0</td>\n",
       "      <td>300.0</td>\n",
       "      <td>-19.4</td>\n",
       "      <td>11.0</td>\n",
       "      <td>-1.4</td>\n",
       "      <td>11.0</td>\n",
       "      <td>1024.5</td>\n",
       "      <td>72.0</td>\n",
       "      <td>3.1</td>\n",
       "    </tr>\n",
       "    <tr>\n",
       "      <th>4</th>\n",
       "      <td>3.0</td>\n",
       "      <td>300.0</td>\n",
       "      <td>-19.5</td>\n",
       "      <td>12.0</td>\n",
       "      <td>-2.0</td>\n",
       "      <td>12.0</td>\n",
       "      <td>1025.2</td>\n",
       "      <td>72.0</td>\n",
       "      <td>2.0</td>\n",
       "    </tr>\n",
       "    <tr>\n",
       "      <th>...</th>\n",
       "      <td>...</td>\n",
       "      <td>...</td>\n",
       "      <td>...</td>\n",
       "      <td>...</td>\n",
       "      <td>...</td>\n",
       "      <td>...</td>\n",
       "      <td>...</td>\n",
       "      <td>...</td>\n",
       "      <td>...</td>\n",
       "    </tr>\n",
       "    <tr>\n",
       "      <th>210379</th>\n",
       "      <td>58.0</td>\n",
       "      <td>500.0</td>\n",
       "      <td>-17.0</td>\n",
       "      <td>4.0</td>\n",
       "      <td>12.8</td>\n",
       "      <td>19.0</td>\n",
       "      <td>1009.9</td>\n",
       "      <td>56.0</td>\n",
       "      <td>3.1</td>\n",
       "    </tr>\n",
       "    <tr>\n",
       "      <th>210380</th>\n",
       "      <td>83.0</td>\n",
       "      <td>700.0</td>\n",
       "      <td>-15.5</td>\n",
       "      <td>6.0</td>\n",
       "      <td>11.1</td>\n",
       "      <td>60.0</td>\n",
       "      <td>1010.4</td>\n",
       "      <td>26.0</td>\n",
       "      <td>1.9</td>\n",
       "    </tr>\n",
       "    <tr>\n",
       "      <th>210381</th>\n",
       "      <td>37.0</td>\n",
       "      <td>600.0</td>\n",
       "      <td>-15.9</td>\n",
       "      <td>7.0</td>\n",
       "      <td>10.5</td>\n",
       "      <td>52.0</td>\n",
       "      <td>1010.8</td>\n",
       "      <td>27.0</td>\n",
       "      <td>2.3</td>\n",
       "    </tr>\n",
       "    <tr>\n",
       "      <th>210382</th>\n",
       "      <td>23.0</td>\n",
       "      <td>400.0</td>\n",
       "      <td>-14.9</td>\n",
       "      <td>3.0</td>\n",
       "      <td>8.9</td>\n",
       "      <td>13.0</td>\n",
       "      <td>1010.9</td>\n",
       "      <td>57.0</td>\n",
       "      <td>1.6</td>\n",
       "    </tr>\n",
       "    <tr>\n",
       "      <th>210383</th>\n",
       "      <td>48.0</td>\n",
       "      <td>600.0</td>\n",
       "      <td>-13.4</td>\n",
       "      <td>5.0</td>\n",
       "      <td>6.2</td>\n",
       "      <td>48.0</td>\n",
       "      <td>1010.5</td>\n",
       "      <td>28.0</td>\n",
       "      <td>0.7</td>\n",
       "    </tr>\n",
       "  </tbody>\n",
       "</table>\n",
       "<p>210384 rows × 9 columns</p>\n",
       "</div>"
      ],
      "text/plain": [
       "        PM10     CO  DEWP   SO2  TEMP   NO2    PRES    O3  WSPM\n",
       "0        4.0  300.0 -18.8   4.0  -0.7   7.0  1023.0  77.0   4.4\n",
       "1        8.0  300.0 -18.2   4.0  -1.1   7.0  1023.2  77.0   4.7\n",
       "2        7.0  300.0 -18.2   5.0  -1.1  10.0  1023.5  73.0   5.6\n",
       "3        6.0  300.0 -19.4  11.0  -1.4  11.0  1024.5  72.0   3.1\n",
       "4        3.0  300.0 -19.5  12.0  -2.0  12.0  1025.2  72.0   2.0\n",
       "...      ...    ...   ...   ...   ...   ...     ...   ...   ...\n",
       "210379  58.0  500.0 -17.0   4.0  12.8  19.0  1009.9  56.0   3.1\n",
       "210380  83.0  700.0 -15.5   6.0  11.1  60.0  1010.4  26.0   1.9\n",
       "210381  37.0  600.0 -15.9   7.0  10.5  52.0  1010.8  27.0   2.3\n",
       "210382  23.0  400.0 -14.9   3.0   8.9  13.0  1010.9  57.0   1.6\n",
       "210383  48.0  600.0 -13.4   5.0   6.2  48.0  1010.5  28.0   0.7\n",
       "\n",
       "[210384 rows x 9 columns]"
      ]
     },
     "execution_count": 23,
     "metadata": {},
     "output_type": "execute_result"
    }
   ],
   "source": [
    "df[features].to_csv('imputed_dataframe.csv', index=False)"
   ]
  },
  {
   "cell_type": "code",
   "execution_count": null,
   "id": "57c72658",
   "metadata": {},
   "outputs": [],
   "source": []
  }
 ],
 "metadata": {
  "kernelspec": {
   "display_name": "Python 3",
   "language": "python",
   "name": "python3"
  },
  "language_info": {
   "codemirror_mode": {
    "name": "ipython",
    "version": 3
   },
   "file_extension": ".py",
   "mimetype": "text/x-python",
   "name": "python",
   "nbconvert_exporter": "python",
   "pygments_lexer": "ipython3",
   "version": "3.8.8"
  }
 },
 "nbformat": 4,
 "nbformat_minor": 5
}
